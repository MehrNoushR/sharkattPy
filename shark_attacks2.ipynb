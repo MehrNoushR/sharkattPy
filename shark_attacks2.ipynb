{
  "nbformat": 4,
  "nbformat_minor": 0,
  "metadata": {
    "colab": {
      "provenance": [],
      "authorship_tag": "ABX9TyPa/2D4RILPuxuFZqawuf3S",
      "include_colab_link": true
    },
    "kernelspec": {
      "name": "python3",
      "display_name": "Python 3"
    },
    "language_info": {
      "name": "python"
    }
  },
  "cells": [
    {
      "cell_type": "markdown",
      "metadata": {
        "id": "view-in-github",
        "colab_type": "text"
      },
      "source": [
        "<a href=\"https://colab.research.google.com/github/MehrNoushR/sharkattPy/blob/main/shark_attacks2.ipynb\" target=\"_parent\"><img src=\"https://colab.research.google.com/assets/colab-badge.svg\" alt=\"Open In Colab\"/></a>"
      ]
    },
    {
      "cell_type": "code",
      "execution_count": null,
      "metadata": {
        "id": "9h4dYe625RFv"
      },
      "outputs": [],
      "source": [
        "import pandas as pd\n",
        "import matplotlib.pyplot as plt\n",
        "%matplotlib inline\n",
        "import seaborn as sns\n",
        "import warnings\n",
        "warnings.filterwarnings(\"ignore\")"
      ]
    },
    {
      "cell_type": "code",
      "source": [
        "#loading the dataset\n",
        "attacks_df = pd.read_csv(\"attacks.csv\", encoding=\"ISO-8859-1\", low_memory=False)\n",
        "\n",
        "# Display the first few rows of the dataset for exploration\n",
        "attacks_df.head()\n"
      ],
      "metadata": {
        "id": "JW-VCkNHWw16"
      },
      "execution_count": null,
      "outputs": []
    },
    {
      "cell_type": "markdown",
      "source": [
        "Based on the displayed rows, here are some relevant columns that may help answer the given questions:\n",
        "\n",
        "* Type: Discribes where the shark attack was provoked or unprovoked.\n",
        "* Species: Inoformation on the spcies of shark involved in the attack.\n",
        "* Activity: Describes the activity the victim was engaged in when the attack occurred.\n",
        "* Age: Age of the victim. This can be used to address the question about children.\n",
        "* Fatal (Y/N): Indicates if the attack was fatal or not.\n",
        "\n",
        "Data Cleaning\n",
        "\n",
        "* Check for missing values.\n",
        "* Assess the unique values in the columns of interest, specially to understand the classifications used.\n"
      ],
      "metadata": {
        "id": "arVyuFcBY9Ee"
      }
    },
    {
      "cell_type": "code",
      "source": [
        "# Checking for missing values in the dataset\n",
        "missing_values = attacks_df.isnull().sum()\n",
        "\n",
        "# Display the number of missing values for each column\n",
        "missing_values"
      ],
      "metadata": {
        "id": "V6avtNZEdfUh"
      },
      "execution_count": null,
      "outputs": []
    },
    {
      "cell_type": "markdown",
      "source": [
        "For our questions, the most relevant columns are Type, Species, Activity, Age, and Fatal (Y/N). We can see from the missing values count that:\n",
        "\n",
        "* Type has 19,425 missing values.\n",
        "* Species has 22,259 missing values.\n",
        "* Activity has 19,965 missing values.\n",
        "* Age has 22,252 missing values.\n",
        "* Fatal (Y/N) has 19,960 missing values.\n"
      ],
      "metadata": {
        "id": "tQ8OGQMleJut"
      }
    },
    {
      "cell_type": "code",
      "source": [
        "# Checking the unique values in the relevant columns\n",
        "unique_values = {\n",
        "    \"Type\" : attacks_df[\"Type\"].unique(),\n",
        "    \"Species\" : attacks_df[\"Species\"].dropna().unique()[:10], # only first 10\n",
        "    \"Activity\" : attacks_df[\"Activity\"].dropna().unique() [:10], # only first 10\n",
        "    \"Age\" : attacks_df[\"Age\"].dropna().unique() [:10], # only first 10\n",
        "    \"Fatal (Y/N)\": attacks_df[ \"Fatal (Y/N)\"].unique()\n",
        "}\n",
        "\n",
        "unique_values"
      ],
      "metadata": {
        "id": "8KaZVKh1fSG7"
      },
      "execution_count": null,
      "outputs": []
    },
    {
      "cell_type": "markdown",
      "source": [
        "1. Type:\n",
        "\n",
        ".Boating\n",
        "\n",
        ".Unprovoked\n",
        "\n",
        ".Invalid\n",
        "\n",
        ".Provoked\n",
        "\n",
        ".Questionable\n",
        "\n",
        ".Sea Disaster\n",
        "\n",
        ".Boat\n",
        "\n",
        ".Boatomg\n",
        "\n",
        ".(Some missing values)\n",
        "\n",
        "\n",
        "\n",
        "\n",
        "\n",
        "2. Species (first 10 unique values):\n",
        "\n",
        ".White shark\n",
        "\n",
        ".2m shark\n",
        "\n",
        ".Tiger shark, 3m\n",
        "\n",
        ".Tiger shark\n",
        "\n",
        ".Lemon shark, 3'\n",
        "\n",
        ".Bull shark, 6'\n",
        "\n",
        ".Grey reef shark\n",
        "\n",
        ".Invalid incident Tawny nurse shark, 2m\n",
        "\n",
        ".Shark involvement not confirmed\n",
        "\n",
        "\n",
        "\n",
        "3. Activity (first 10 unique values):\n",
        "\n",
        ".Paddling\n",
        "\n",
        ".Standing\n",
        "\n",
        ".Surfing\n",
        "\n",
        ".Free diving\n",
        "\n",
        ".Kite surfing\n",
        "\n",
        ".Swimming\n",
        "\n",
        ".Fishing\n",
        "\n",
        ".Walking\n",
        "\n",
        ".Feeding sharks\n",
        "\n",
        ".Boogie boarding\n",
        "\n",
        "\n",
        "\n",
        "4. Fatal (Y/N):\n",
        "\n",
        ".N\n",
        "\n",
        ".Y\n",
        "\n",
        ".M\n",
        "\n",
        ".UNKNOWN\n",
        "\n",
        ".2017\n",
        "\n",
        ".(Some variations of 'N' and 'Y' with extra spaces)\n",
        "\n",
        ".(Some missing values)\n",
        "\n",
        "\n",
        "\n",
        "Observations and Assumptions:\n",
        "\n",
        ".The Type column includes values like \"Invalid\" and \"Boatomg\" (which might be a typo for \"Boating\"). We should be cautious while considering these values.\n",
        "\n",
        ".The Species column has various formats for describing sharks. We might need to group similar species or generalize some categories for analysis.\n",
        "\n",
        ".The Activity column seems relatively straightforward. However, there are numerous unique activities, so we might need to categorize them into broader groups for analysis.\n",
        "\n",
        ".The Age column includes numeric age values. We can decide on an age threshold to define \"children\" (e.g., age < 18).\n",
        "\n",
        ".The Fatal (Y/N) column has some inconsistencies and odd values (like \"2017\" and \"M\"). We'll need to clean this up to have a consistent binary classification.\n",
        "\n",
        "\n",
        "\n",
        "\n",
        "\n",
        " Question 1: What are the most dangerous types of sharks to humans?\n",
        "\n",
        ".We can group by the Species column and count the number of fatal attacks to determine this.\n",
        "\n"
      ],
      "metadata": {
        "id": "sLvojwmUu30k"
      }
    },
    {
      "cell_type": "code",
      "source": [
        "# Cleaning up the \"Fatal (Y/N)\"column\n",
        "attacks_df[\"Fatal (Y/N)\"] = attacks_df[\"Fatal (Y/N)\"].str.strip().str.upper().replace({\"M\": \"N\",\"UNKNOWN\":\"N\", \"2017\":\"N\"})"
      ],
      "metadata": {
        "id": "Y8nxMiLutbfF"
      },
      "execution_count": null,
      "outputs": []
    },
    {
      "cell_type": "code",
      "source": [
        "# Filtering the data to consider only fatal attacks\n",
        "fatal_attacks = attacks_df[\"Fatal (Y/N)\"] == \"Y\""
      ],
      "metadata": {
        "id": "e0ufIaAKxSkl"
      },
      "execution_count": null,
      "outputs": []
    },
    {
      "cell_type": "code",
      "source": [
        "# Grouping by the species and counting the number of fatal attacks\n",
        "dangerous_sharks = fatal_attacks [\"Species\"].value_counts().head(10)"
      ],
      "metadata": {
        "id": "GdbMONudzF4a"
      },
      "execution_count": null,
      "outputs": []
    },
    {
      "cell_type": "code",
      "source": [
        "# Set uo the visualization style\n",
        "sns.set_style(\"whitegrid\")\n",
        "\n",
        "# Plot for the most dangerous types of sharks to humans\n",
        "plt.figure(figsize=(12, 7))\n",
        "dangerous_sharks_plot = sns.barplot(x=dangerous_sharks.values,\n",
        "                                    y=dangerous_sharks.index, palette=\"viridis\")\n",
        "plt.title(\"Top 10 Shark Species by Fatal Attacks\", fontsize=15)\n",
        "plt.xlabel(\"Number of Fatal Attack\", fontsize=12)\n",
        "plt.ylabel(\"Shark Species\", fontsize=12 )\n",
        "dangerous_sharks_plot.figure.tight_layout()\n",
        "\n",
        "plt.show()"
      ],
      "metadata": {
        "id": "dUNnOiFPz6Ex"
      },
      "execution_count": null,
      "outputs": []
    },
    {
      "cell_type": "code",
      "source": [
        "dangerous_sharks"
      ],
      "metadata": {
        "id": "SLY_K6DC4z5q"
      },
      "execution_count": null,
      "outputs": []
    },
    {
      "cell_type": "markdown",
      "source": [
        "Based on the data, the top 10 most dangerous types of sharks to humans, in terms of fatal attacks, are:\n",
        "\n",
        "\n",
        "White shark: 44 fatal attacks\n",
        "\n",
        "Tiger shark: 25 fatal attacks\n",
        "\n",
        "Bull shark: 15 fatal attacks\n",
        "\n",
        "3.7 m [12'] shark: 9 fatal attacks\n",
        "\n",
        "3 m [10'] shark: 8 fatal attacks\n",
        "\n",
        "12' shark: 5 fatal attacks\n",
        "\n",
        "6 m [20'] white shark: 5 fatal attacks\n",
        "\n",
        "Thought to involve a Zambesi shark: 5 fatal attacks\n",
        "\n",
        "2 m shark: 4 fatal attacks\n",
        "\n",
        "Blue shark: 4 fatal attacks\n",
        "\n",
        "\n",
        "\n",
        "Assumptions and Potential Biases:\n",
        "\n",
        "We assumed that the species descriptions are accurate and consistent. However, there might be some inconsistencies or variations in naming conventions, leading to fragmented counts.\n",
        "\n",
        "Some descriptions, like \"3.7 m [12'] shark\", are not specific to a species but rather indicate the size of the shark. This can create ambiguity in identifying the exact species.\n",
        "\n",
        "\n",
        "We considered only fatal attacks to determine the \"dangerousness\" of a shark species. However, the frequency of non-fatal attacks could provide additional context.\n",
        "\n",
        ".\n",
        "\n",
        "\n",
        "\n",
        "\n",
        "Question 2: Are children more likely to be attacked by sharks?\n",
        "\n",
        "\n",
        "We can group by age and count the number of attacks for each age group. For simplicity, we'll consider anyone below the age of 18 as a child.\n"
      ],
      "metadata": {
        "id": "kdQnkPMm6aNb"
      }
    },
    {
      "cell_type": "code",
      "source": [
        "# Cleaning the Age column to extract numeric values and convert them to integers\n",
        "attacks_df['Cleaned_Age']= attacks_df['Age'].str.extract('(\\d+)').astype(float)"
      ],
      "metadata": {
        "id": "VvqthkSp7Ffi"
      },
      "execution_count": null,
      "outputs": []
    },
    {
      "cell_type": "code",
      "source": [
        "# Categorizing ages into \"Child\" and \"Adult\"\n",
        "attacks_df['Age_Group'] = attacks_df['Cleaned_Age'].apply(lambda x: 'Child' if x < 18 else 'Adult')"
      ],
      "metadata": {
        "id": "BzV5n5cr9l4-"
      },
      "execution_count": null,
      "outputs": []
    },
    {
      "cell_type": "code",
      "source": [
        "# Counting the number of attacks for each age group\n",
        "age_group_attacks = attacks_df ['Age_Group'].value_counts()"
      ],
      "metadata": {
        "id": "C_XYGOFRASn7"
      },
      "execution_count": null,
      "outputs": []
    },
    {
      "cell_type": "code",
      "source": [
        "age_group_attacks"
      ],
      "metadata": {
        "id": "LaThf7eXBdPl"
      },
      "execution_count": null,
      "outputs": []
    },
    {
      "cell_type": "code",
      "source": [
        "# Pie chart for number of attacks on children vs. adults\n",
        "age_group_attacks.plot(kind='pie', figsize=(8, 6),\n",
        "                       autopct= '%1.1f%%',startangle=140,\n",
        "                       colors=sns.color_palette(\"coolwarm\",2))\n",
        "plt.title(\"Shark Attacks : Children vs. Adults\", fontsize=15)\n",
        "plt.ylabel(\"\")\n",
        "plt.show()"
      ],
      "metadata": {
        "id": "aghLu8FtCR58"
      },
      "execution_count": null,
      "outputs": []
    },
    {
      "cell_type": "markdown",
      "source": [
        "Based on the data:\n",
        "\n",
        "Adults experienced 24,798 shark attacks.\n",
        "\n",
        "Children (individuals below the age of 18) experienced 925 shark attacks.\n",
        "\n",
        "\n",
        "Assumptions and Potential Biases:\n",
        "\n",
        "We've defined \"children\" as individuals below the age of 18. This threshold is somewhat arbitrary and could be adjusted based on different definitions of childhood.\n",
        "\n",
        "\n",
        "Age data might not be consistently reported or might be missing for many records. This can affect the accuracy of our counts.\n",
        "\n",
        "We've only considered the absolute number of attacks.\n",
        "\n",
        "\n",
        " A relative comparison (e.g., considering the population size of children vs. adults or the frequency of exposure to shark habitats) might provide a different perspective.\n",
        "\n",
        ".\n",
        "\n",
        "\n",
        "\n",
        "Question 3: Are shark attacks where sharks were provoked more or less dangerous?\n",
        "\n",
        "\n",
        "We can group by the Type column and count the number of fatal vs. non-fatal attacks to determine this.\n"
      ],
      "metadata": {
        "id": "Q_QrSODPGcKI"
      }
    },
    {
      "cell_type": "code",
      "source": [
        "# Grouping by the 'Type' column and counting the number of fatal vs. non-fatal attacks\n",
        "provoked_danger = attacks_df.groupby('Type')['Fatal (Y/N)'].value_counts().unstack()\n",
        "provoked_danger"
      ],
      "metadata": {
        "id": "eBvrgp21GudE"
      },
      "execution_count": null,
      "outputs": []
    },
    {
      "cell_type": "code",
      "source": [
        "# Filter data to only consider \"Provoked\" and \"Unprovoked\" types for clarity\n",
        "provoked_data = provoked_danger.loc[[\"Provoked\",\"Unprovoked\"]]\n",
        "\n",
        "# Stacked bar plot for provoked vs. unprovoked attacks\n",
        "provoked_data_plot = provoked_data.plot(kind=\"bar\", stacked=True,figsize=(8, 6),\n",
        "                                        colormap=\"viridis\")\n",
        "plt.title(\"Fatal vs. Non-Fatal Attacks: Provoked vs. Unprovoked\", fontsize=15)\n",
        "plt.xlabel(\"Type of Attack\", fontsize=12)\n",
        "plt.ylabel(\"Number of Attacks\", fontsize=12)\n",
        "plt.legend(title=\"Fatality\")\n",
        "provoked_data_plot.figure.tight_layout()\n",
        "\n",
        "plt.show()"
      ],
      "metadata": {
        "id": "jbHA4AL-IitB"
      },
      "execution_count": null,
      "outputs": []
    },
    {
      "cell_type": "code",
      "source": [
        "# Pie charts for provoked vs. unprovoked attacks\n",
        "fig, axes = plt.subplots(nrows=1, ncols=2, figsize=(14, 7))\n",
        "\n",
        "# Non-Fatal Attacks\n",
        "provoked_data['N'].plot(kind='pie', ax=axes[0], autopct='%1.1f%%', startangle=140,\n",
        "                        colors=sns.color_palette(\"viridis\", 2))\n",
        "axes[0].set_title(\"Non-Fatal Attacks\", fontsize=15)\n",
        "axes[0].set_ylabel(\"\")\n",
        "\n",
        "# Fatal Attacks\n",
        "provoked_data['Y'].plot(kind='pie', ax=axes[1], autopct='%1.1%%', startangle=140,\n",
        "                        colors=sns.color_palette (\"viridis, 2\"))\n",
        "axes[1].set_title(\"Fatal Attacks\", fontsize=15)\n",
        "axes[1].set_ylabel(\"\")\n",
        "\n",
        "plt.suptitle(\"Provoked vs. Unprovoked Attacks\", fontsize=16)\n",
        "plt.tight_layout()\n",
        "plt.show()\n",
        "\n"
      ],
      "metadata": {
        "id": "6Uo2XPHkAmng"
      },
      "execution_count": null,
      "outputs": []
    },
    {
      "cell_type": "markdown",
      "source": [
        "Base on the data:\n",
        "\n",
        "For \"Provoked\" attacks, there were 553 non-fatal and 19 fatal incidents.\n",
        "\n",
        "For \"Unprovoked\" attacks, there were 3,408 non-fatal and 1,181 fatal incidents.\n",
        "\n",
        "Assumptions and Potential Biases:\n",
        "\n",
        "The \"Type\" column accurately classifies the nature of the attack.\n",
        "\n",
        "There are values like \"Invalid\" and \"Boatomg\" which might need further investigation.\n",
        "\n",
        "\n",
        "\n",
        "\n",
        ".\n",
        "\n",
        "\n",
        "\n",
        "\n",
        "\n",
        "Question 4: Are certain activities more likely to result in a shark attack?\n",
        "\n",
        "we can analyze the Activity column and count the number of attacks associated with each recorded activity.\n",
        "\n",
        "\n",
        "However, there might be many unique activities in the dataset.\n",
        "\n",
        "To make the analysis more concise, we'll focus on the top activities associated with the highest number of shark attacks."
      ],
      "metadata": {
        "id": "EU07ZTWCMcA_"
      }
    },
    {
      "cell_type": "code",
      "source": [
        "# Counting the number of attacks for each activity\n",
        "activity_attacks = attacks_df[ \"Activity\"].value_counts().head(10)\n",
        "\n",
        "activity_attacks"
      ],
      "metadata": {
        "id": "2JDBPdZBMmsf"
      },
      "execution_count": null,
      "outputs": []
    },
    {
      "cell_type": "code",
      "source": [
        "# Plotting the top 10 activities associated with shark attacks\n",
        "plt.figure(figsize=(12, 8))\n",
        "activity_attacks.plot(kind='barh', color= 'lightblue')\n",
        "plt.xlabel( 'Number of Attacks')\n",
        "plt.ylabel('Activity')\n",
        "plt.title('Top 10 activities Associated with Shark Attacks')\n",
        "plt.gca().invert_yaxis() # to display the activity with the highest count at the top\n",
        "plt.show()"
      ],
      "metadata": {
        "id": "TRakQluKO9S2"
      },
      "execution_count": null,
      "outputs": []
    },
    {
      "cell_type": "markdown",
      "source": [
        "Based on the data, the top 10 activities most associated with shark attacks are:\n",
        "\n",
        ">Surfing: 971 attacks\n",
        "\n",
        ">Swimming: 869 attacks\n",
        "\n",
        ">Fishing: 431 attacks\n",
        "\n",
        ">Spearfishing: 333 attacks\n",
        "\n",
        ">Bathing: 162 attacks\n",
        "\n",
        ">Wading: 149 attacks\n",
        "\n",
        ">Diving: 127 attacks\n",
        "\n",
        ">Standing: 99 attacks\n",
        "\n",
        ">Snorkeling: 89 attacks\n",
        "\n",
        ">Scuba diving: 76 attacks\n",
        "\n",
        "\n",
        "Assumptions and Potential Biases:\n",
        "\n",
        "We assumed that the Activity column accurately captures the primary activity the individual was engaged in at the time of the attack.\n",
        "\n",
        "There might be variations or nuances in naming conventions for activities, leading to fragmented counts (e.g., \"Diving\" and \"Scuba diving\" might refer to similar activities but are counted separately).\n",
        "\n",
        "The dataset may not be exhaustive or representative of all shark attacks globally, so the actual distribution of activities could be different.\n",
        "\n",
        "\n",
        "\n",
        "\n",
        "\n"
      ],
      "metadata": {
        "id": "dQ8G4EhoRGbH"
      }
    }
  ]
}